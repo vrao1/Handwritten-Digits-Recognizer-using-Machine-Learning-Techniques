{
 "cells": [
  {
   "cell_type": "markdown",
   "metadata": {},
   "source": [
    "# Project Evaluation on Digit Recognization"
   ]
  },
  {
   "cell_type": "markdown",
   "metadata": {},
   "source": [
    "### Team Member\n",
    "- Vinod Rao \n",
    " - A20369838\n",
    "- Ajay Ramesh \n",
    " - A20384062"
   ]
  },
  {
   "cell_type": "markdown",
   "metadata": {},
   "source": [
    "### Project Description\n",
    "\n",
    "This is a project using a supervised machine learning method to classify handwritten digits images (Black & White) from zero through nine.\n",
    "It has a training set of aggregated 42K samples for all digits 0-9 and test set of 28K samples.There is one additional test set of 10K samples to get the statistics of random predictions for those images which are not included in training set.\n",
    "\n"
   ]
  },
  {
   "cell_type": "markdown",
   "metadata": {},
   "source": [
    "<pre>Performance measures calculated :\n",
    "     Accuracy\n",
    "     Precision\n",
    "     Recall\n",
    "     F1 Score\n",
    "\n",
    "Models tested :\n",
    "    MLPClassifier\n",
    "    RandomForestClassifier\n",
    "    \n",
    "Activation function used :\n",
    "    relu\n",
    "    tanh\n",
    "    logistic\n",
    "    identity\n",
    "    \n",
    "Hidden layers used for Artificial Neural Network classifier (MLPClassifier) :\n",
    "    1 hidden layer with 100 units\n",
    "    3 hidden layer with 100 units in each layer\n",
    "    10 hidden layer with 100 units in each layer\n",
    "    10 hidden layer with 10 units in each layer\n",
    "    10 hidden layer with 50 units in each layer\n",
    "    \n",
    " </pre>"
   ]
  },
  {
   "cell_type": "code",
   "execution_count": 2,
   "metadata": {
    "collapsed": true
   },
   "outputs": [],
   "source": [
    "%matplotlib inline\n",
    "import numpy as np\n",
    "import matplotlib.pyplot as plt\n",
    "from matplotlib import pylab\n",
    "import pandas as pd\n",
    "import matplotlib.cm as cm\n",
    "import random\n",
    "from sklearn.model_selection import cross_val_score\n",
    "from sklearn.neural_network import MLPClassifier \n",
    "from sklearn.ensemble import RandomForestClassifier\n",
    "from sklearn import metrics"
   ]
  },
  {
   "cell_type": "code",
   "execution_count": 3,
   "metadata": {
    "collapsed": false
   },
   "outputs": [
    {
     "name": "stdout",
     "output_type": "stream",
     "text": [
      "Data Shape for Training =  (42000, 784)\n"
     ]
    }
   ],
   "source": [
    "# loading the training dataset\n",
    "dataset = pd.read_csv('data/train.csv')\n",
    "\n",
    "# create the training & test sets, skipping the header row with [1:]\n",
    "target = dataset[[0]].values.ravel()\n",
    "train = dataset.iloc[:,1:].values # skipping the first label\n",
    "\n",
    "print(\"Data Shape for Training = \", train.shape)"
   ]
  },
  {
   "cell_type": "markdown",
   "metadata": {},
   "source": [
    "### MLPClassifier"
   ]
  },
  {
   "cell_type": "code",
   "execution_count": 7,
   "metadata": {
    "collapsed": false
   },
   "outputs": [
    {
     "name": "stdout",
     "output_type": "stream",
     "text": [
      "*********************************************************************************************\n",
      "Scoring                            =  accuracy\n",
      "Activation Function                =  relu\n",
      "Hidden Layer units in each layer   =  [100]\n",
      "Classifier Information \n",
      "\n",
      "  MLPClassifier(activation='relu', alpha=0.0001, batch_size='auto', beta_1=0.9,\n",
      "       beta_2=0.999, early_stopping=False, epsilon=1e-08,\n",
      "       hidden_layer_sizes=[100], learning_rate='constant',\n",
      "       learning_rate_init=0.001, max_iter=200, momentum=0.9,\n",
      "       nesterovs_momentum=True, power_t=0.5, random_state=2, shuffle=True,\n",
      "       solver='adam', tol=0.0001, validation_fraction=0.1, verbose=False,\n",
      "       warm_start=False)\n",
      "\n",
      "\n",
      "*********************************************************************************************\n",
      "accuracy  : 0.944  , Activation Funtion =  relu\n",
      "*********************************************************************************************\n",
      "Scoring                            =  accuracy\n",
      "Activation Function                =  relu\n",
      "Hidden Layer units in each layer   =  [100, 100, 100, 100, 100, 100, 100, 100, 100, 100]\n",
      "Classifier Information \n",
      "\n",
      "  MLPClassifier(activation='relu', alpha=0.0001, batch_size='auto', beta_1=0.9,\n",
      "       beta_2=0.999, early_stopping=False, epsilon=1e-08,\n",
      "       hidden_layer_sizes=[100, 100, 100, 100, 100, 100, 100, 100, 100, 100],\n",
      "       learning_rate='constant', learning_rate_init=0.001, max_iter=200,\n",
      "       momentum=0.9, nesterovs_momentum=True, power_t=0.5, random_state=2,\n",
      "       shuffle=True, solver='adam', tol=0.0001, validation_fraction=0.1,\n",
      "       verbose=False, warm_start=False)\n",
      "\n",
      "\n",
      "*********************************************************************************************\n",
      "accuracy  : 0.966  , Activation Funtion =  relu\n",
      "*********************************************************************************************\n",
      "Scoring                            =  accuracy\n",
      "Activation Function                =  relu\n",
      "Hidden Layer units in each layer   =  [50, 50, 50, 50, 50, 50, 50, 50, 50, 50]\n",
      "Classifier Information \n",
      "\n",
      "  MLPClassifier(activation='relu', alpha=0.0001, batch_size='auto', beta_1=0.9,\n",
      "       beta_2=0.999, early_stopping=False, epsilon=1e-08,\n",
      "       hidden_layer_sizes=[50, 50, 50, 50, 50, 50, 50, 50, 50, 50],\n",
      "       learning_rate='constant', learning_rate_init=0.001, max_iter=200,\n",
      "       momentum=0.9, nesterovs_momentum=True, power_t=0.5, random_state=2,\n",
      "       shuffle=True, solver='adam', tol=0.0001, validation_fraction=0.1,\n",
      "       verbose=False, warm_start=False)\n",
      "\n",
      "\n",
      "*********************************************************************************************\n",
      "accuracy  : 0.959  , Activation Funtion =  relu\n",
      "*********************************************************************************************\n",
      "Scoring                            =  accuracy\n",
      "Activation Function                =  relu\n",
      "Hidden Layer units in each layer   =  [10, 10, 10, 10, 10, 10, 10, 10, 10, 10]\n",
      "Classifier Information \n",
      "\n",
      "  MLPClassifier(activation='relu', alpha=0.0001, batch_size='auto', beta_1=0.9,\n",
      "       beta_2=0.999, early_stopping=False, epsilon=1e-08,\n",
      "       hidden_layer_sizes=[10, 10, 10, 10, 10, 10, 10, 10, 10, 10],\n",
      "       learning_rate='constant', learning_rate_init=0.001, max_iter=200,\n",
      "       momentum=0.9, nesterovs_momentum=True, power_t=0.5, random_state=2,\n",
      "       shuffle=True, solver='adam', tol=0.0001, validation_fraction=0.1,\n",
      "       verbose=False, warm_start=False)\n",
      "\n",
      "\n",
      "*********************************************************************************************\n",
      "accuracy  : 0.920  , Activation Funtion =  relu\n",
      "*********************************************************************************************\n",
      "Scoring                            =  accuracy\n",
      "Activation Function                =  relu\n",
      "Hidden Layer units in each layer   =  [100, 100, 100]\n",
      "Classifier Information \n",
      "\n",
      "  MLPClassifier(activation='relu', alpha=0.0001, batch_size='auto', beta_1=0.9,\n",
      "       beta_2=0.999, early_stopping=False, epsilon=1e-08,\n",
      "       hidden_layer_sizes=[100, 100, 100], learning_rate='constant',\n",
      "       learning_rate_init=0.001, max_iter=200, momentum=0.9,\n",
      "       nesterovs_momentum=True, power_t=0.5, random_state=2, shuffle=True,\n",
      "       solver='adam', tol=0.0001, validation_fraction=0.1, verbose=False,\n",
      "       warm_start=False)\n",
      "\n",
      "\n",
      "*********************************************************************************************\n",
      "accuracy  : 0.946  , Activation Funtion =  relu\n",
      "*********************************************************************************************\n",
      "Scoring                            =  accuracy\n",
      "Activation Function                =  identity\n",
      "Hidden Layer units in each layer   =  [100]\n",
      "Classifier Information \n",
      "\n",
      "  MLPClassifier(activation='identity', alpha=0.0001, batch_size='auto',\n",
      "       beta_1=0.9, beta_2=0.999, early_stopping=False, epsilon=1e-08,\n",
      "       hidden_layer_sizes=[100], learning_rate='constant',\n",
      "       learning_rate_init=0.001, max_iter=200, momentum=0.9,\n",
      "       nesterovs_momentum=True, power_t=0.5, random_state=2, shuffle=True,\n",
      "       solver='adam', tol=0.0001, validation_fraction=0.1, verbose=False,\n",
      "       warm_start=False)\n",
      "\n",
      "\n",
      "*********************************************************************************************\n",
      "accuracy  : 0.907  , Activation Funtion =  identity\n",
      "*********************************************************************************************\n",
      "Scoring                            =  accuracy\n",
      "Activation Function                =  identity\n",
      "Hidden Layer units in each layer   =  [100, 100, 100, 100, 100, 100, 100, 100, 100, 100]\n",
      "Classifier Information \n",
      "\n",
      "  MLPClassifier(activation='identity', alpha=0.0001, batch_size='auto',\n",
      "       beta_1=0.9, beta_2=0.999, early_stopping=False, epsilon=1e-08,\n",
      "       hidden_layer_sizes=[100, 100, 100, 100, 100, 100, 100, 100, 100, 100],\n",
      "       learning_rate='constant', learning_rate_init=0.001, max_iter=200,\n",
      "       momentum=0.9, nesterovs_momentum=True, power_t=0.5, random_state=2,\n",
      "       shuffle=True, solver='adam', tol=0.0001, validation_fraction=0.1,\n",
      "       verbose=False, warm_start=False)\n",
      "\n",
      "\n",
      "*********************************************************************************************\n",
      "accuracy  : 0.891  , Activation Funtion =  identity\n",
      "*********************************************************************************************\n",
      "Scoring                            =  accuracy\n",
      "Activation Function                =  identity\n",
      "Hidden Layer units in each layer   =  [50, 50, 50, 50, 50, 50, 50, 50, 50, 50]\n",
      "Classifier Information \n",
      "\n",
      "  MLPClassifier(activation='identity', alpha=0.0001, batch_size='auto',\n",
      "       beta_1=0.9, beta_2=0.999, early_stopping=False, epsilon=1e-08,\n",
      "       hidden_layer_sizes=[50, 50, 50, 50, 50, 50, 50, 50, 50, 50],\n",
      "       learning_rate='constant', learning_rate_init=0.001, max_iter=200,\n",
      "       momentum=0.9, nesterovs_momentum=True, power_t=0.5, random_state=2,\n",
      "       shuffle=True, solver='adam', tol=0.0001, validation_fraction=0.1,\n",
      "       verbose=False, warm_start=False)\n",
      "\n",
      "\n",
      "*********************************************************************************************\n",
      "accuracy  : 0.922  , Activation Funtion =  identity\n",
      "*********************************************************************************************\n",
      "Scoring                            =  accuracy\n",
      "Activation Function                =  identity\n",
      "Hidden Layer units in each layer   =  [10, 10, 10, 10, 10, 10, 10, 10, 10, 10]\n",
      "Classifier Information \n",
      "\n",
      "  MLPClassifier(activation='identity', alpha=0.0001, batch_size='auto',\n",
      "       beta_1=0.9, beta_2=0.999, early_stopping=False, epsilon=1e-08,\n",
      "       hidden_layer_sizes=[10, 10, 10, 10, 10, 10, 10, 10, 10, 10],\n",
      "       learning_rate='constant', learning_rate_init=0.001, max_iter=200,\n",
      "       momentum=0.9, nesterovs_momentum=True, power_t=0.5, random_state=2,\n",
      "       shuffle=True, solver='adam', tol=0.0001, validation_fraction=0.1,\n",
      "       verbose=False, warm_start=False)\n",
      "\n",
      "\n",
      "*********************************************************************************************\n",
      "accuracy  : 0.920  , Activation Funtion =  identity\n",
      "*********************************************************************************************\n",
      "Scoring                            =  accuracy\n",
      "Activation Function                =  identity\n",
      "Hidden Layer units in each layer   =  [100, 100, 100]\n",
      "Classifier Information \n",
      "\n",
      "  MLPClassifier(activation='identity', alpha=0.0001, batch_size='auto',\n",
      "       beta_1=0.9, beta_2=0.999, early_stopping=False, epsilon=1e-08,\n",
      "       hidden_layer_sizes=[100, 100, 100], learning_rate='constant',\n",
      "       learning_rate_init=0.001, max_iter=200, momentum=0.9,\n",
      "       nesterovs_momentum=True, power_t=0.5, random_state=2, shuffle=True,\n",
      "       solver='adam', tol=0.0001, validation_fraction=0.1, verbose=False,\n",
      "       warm_start=False)\n",
      "\n",
      "\n",
      "*********************************************************************************************\n",
      "accuracy  : 0.889  , Activation Funtion =  identity\n",
      "*********************************************************************************************\n",
      "Scoring                            =  accuracy\n",
      "Activation Function                =  tanh\n",
      "Hidden Layer units in each layer   =  [100]\n",
      "Classifier Information \n",
      "\n",
      "  MLPClassifier(activation='tanh', alpha=0.0001, batch_size='auto', beta_1=0.9,\n",
      "       beta_2=0.999, early_stopping=False, epsilon=1e-08,\n",
      "       hidden_layer_sizes=[100], learning_rate='constant',\n",
      "       learning_rate_init=0.001, max_iter=200, momentum=0.9,\n",
      "       nesterovs_momentum=True, power_t=0.5, random_state=2, shuffle=True,\n",
      "       solver='adam', tol=0.0001, validation_fraction=0.1, verbose=False,\n",
      "       warm_start=False)\n",
      "\n",
      "\n",
      "*********************************************************************************************\n",
      "accuracy  : 0.919  , Activation Funtion =  tanh\n",
      "*********************************************************************************************\n",
      "Scoring                            =  accuracy\n",
      "Activation Function                =  tanh\n",
      "Hidden Layer units in each layer   =  [100, 100, 100, 100, 100, 100, 100, 100, 100, 100]\n",
      "Classifier Information \n",
      "\n",
      "  MLPClassifier(activation='tanh', alpha=0.0001, batch_size='auto', beta_1=0.9,\n",
      "       beta_2=0.999, early_stopping=False, epsilon=1e-08,\n",
      "       hidden_layer_sizes=[100, 100, 100, 100, 100, 100, 100, 100, 100, 100],\n",
      "       learning_rate='constant', learning_rate_init=0.001, max_iter=200,\n",
      "       momentum=0.9, nesterovs_momentum=True, power_t=0.5, random_state=2,\n",
      "       shuffle=True, solver='adam', tol=0.0001, validation_fraction=0.1,\n",
      "       verbose=False, warm_start=False)\n",
      "\n",
      "\n",
      "*********************************************************************************************\n",
      "accuracy  : 0.913  , Activation Funtion =  tanh\n",
      "*********************************************************************************************\n",
      "Scoring                            =  accuracy\n",
      "Activation Function                =  tanh\n",
      "Hidden Layer units in each layer   =  [50, 50, 50, 50, 50, 50, 50, 50, 50, 50]\n",
      "Classifier Information \n",
      "\n",
      "  MLPClassifier(activation='tanh', alpha=0.0001, batch_size='auto', beta_1=0.9,\n",
      "       beta_2=0.999, early_stopping=False, epsilon=1e-08,\n",
      "       hidden_layer_sizes=[50, 50, 50, 50, 50, 50, 50, 50, 50, 50],\n",
      "       learning_rate='constant', learning_rate_init=0.001, max_iter=200,\n",
      "       momentum=0.9, nesterovs_momentum=True, power_t=0.5, random_state=2,\n",
      "       shuffle=True, solver='adam', tol=0.0001, validation_fraction=0.1,\n",
      "       verbose=False, warm_start=False)\n",
      "\n",
      "\n",
      "*********************************************************************************************\n",
      "accuracy  : 0.900  , Activation Funtion =  tanh\n",
      "*********************************************************************************************\n",
      "Scoring                            =  accuracy\n",
      "Activation Function                =  tanh\n",
      "Hidden Layer units in each layer   =  [10, 10, 10, 10, 10, 10, 10, 10, 10, 10]\n",
      "Classifier Information \n",
      "\n",
      "  MLPClassifier(activation='tanh', alpha=0.0001, batch_size='auto', beta_1=0.9,\n",
      "       beta_2=0.999, early_stopping=False, epsilon=1e-08,\n",
      "       hidden_layer_sizes=[10, 10, 10, 10, 10, 10, 10, 10, 10, 10],\n",
      "       learning_rate='constant', learning_rate_init=0.001, max_iter=200,\n",
      "       momentum=0.9, nesterovs_momentum=True, power_t=0.5, random_state=2,\n",
      "       shuffle=True, solver='adam', tol=0.0001, validation_fraction=0.1,\n",
      "       verbose=False, warm_start=False)\n",
      "\n",
      "\n",
      "*********************************************************************************************\n",
      "accuracy  : 0.783  , Activation Funtion =  tanh\n",
      "*********************************************************************************************\n",
      "Scoring                            =  accuracy\n",
      "Activation Function                =  tanh\n",
      "Hidden Layer units in each layer   =  [100, 100, 100]\n",
      "Classifier Information \n",
      "\n",
      "  MLPClassifier(activation='tanh', alpha=0.0001, batch_size='auto', beta_1=0.9,\n",
      "       beta_2=0.999, early_stopping=False, epsilon=1e-08,\n",
      "       hidden_layer_sizes=[100, 100, 100], learning_rate='constant',\n",
      "       learning_rate_init=0.001, max_iter=200, momentum=0.9,\n",
      "       nesterovs_momentum=True, power_t=0.5, random_state=2, shuffle=True,\n",
      "       solver='adam', tol=0.0001, validation_fraction=0.1, verbose=False,\n",
      "       warm_start=False)\n",
      "\n",
      "\n",
      "*********************************************************************************************\n",
      "accuracy  : 0.929  , Activation Funtion =  tanh\n",
      "*********************************************************************************************\n",
      "Scoring                            =  accuracy\n",
      "Activation Function                =  logistic\n",
      "Hidden Layer units in each layer   =  [100]\n",
      "Classifier Information \n",
      "\n",
      "  MLPClassifier(activation='logistic', alpha=0.0001, batch_size='auto',\n",
      "       beta_1=0.9, beta_2=0.999, early_stopping=False, epsilon=1e-08,\n",
      "       hidden_layer_sizes=[100], learning_rate='constant',\n",
      "       learning_rate_init=0.001, max_iter=200, momentum=0.9,\n",
      "       nesterovs_momentum=True, power_t=0.5, random_state=2, shuffle=True,\n",
      "       solver='adam', tol=0.0001, validation_fraction=0.1, verbose=False,\n",
      "       warm_start=False)\n",
      "\n",
      "\n",
      "*********************************************************************************************\n",
      "accuracy  : 0.942  , Activation Funtion =  logistic\n",
      "*********************************************************************************************\n",
      "Scoring                            =  accuracy\n",
      "Activation Function                =  logistic\n",
      "Hidden Layer units in each layer   =  [100, 100, 100, 100, 100, 100, 100, 100, 100, 100]\n",
      "Classifier Information \n",
      "\n",
      "  MLPClassifier(activation='logistic', alpha=0.0001, batch_size='auto',\n",
      "       beta_1=0.9, beta_2=0.999, early_stopping=False, epsilon=1e-08,\n",
      "       hidden_layer_sizes=[100, 100, 100, 100, 100, 100, 100, 100, 100, 100],\n",
      "       learning_rate='constant', learning_rate_init=0.001, max_iter=200,\n",
      "       momentum=0.9, nesterovs_momentum=True, power_t=0.5, random_state=2,\n",
      "       shuffle=True, solver='adam', tol=0.0001, validation_fraction=0.1,\n",
      "       verbose=False, warm_start=False)\n",
      "\n",
      "\n",
      "*********************************************************************************************\n",
      "accuracy  : 0.108  , Activation Funtion =  logistic\n",
      "*********************************************************************************************\n",
      "Scoring                            =  accuracy\n",
      "Activation Function                =  logistic\n",
      "Hidden Layer units in each layer   =  [50, 50, 50, 50, 50, 50, 50, 50, 50, 50]\n",
      "Classifier Information \n",
      "\n",
      "  MLPClassifier(activation='logistic', alpha=0.0001, batch_size='auto',\n",
      "       beta_1=0.9, beta_2=0.999, early_stopping=False, epsilon=1e-08,\n",
      "       hidden_layer_sizes=[50, 50, 50, 50, 50, 50, 50, 50, 50, 50],\n",
      "       learning_rate='constant', learning_rate_init=0.001, max_iter=200,\n",
      "       momentum=0.9, nesterovs_momentum=True, power_t=0.5, random_state=2,\n",
      "       shuffle=True, solver='adam', tol=0.0001, validation_fraction=0.1,\n",
      "       verbose=False, warm_start=False)\n",
      "\n",
      "\n",
      "*********************************************************************************************\n",
      "accuracy  : 0.109  , Activation Funtion =  logistic\n",
      "*********************************************************************************************\n",
      "Scoring                            =  accuracy\n",
      "Activation Function                =  logistic\n",
      "Hidden Layer units in each layer   =  [10, 10, 10, 10, 10, 10, 10, 10, 10, 10]\n",
      "Classifier Information \n",
      "\n",
      "  MLPClassifier(activation='logistic', alpha=0.0001, batch_size='auto',\n",
      "       beta_1=0.9, beta_2=0.999, early_stopping=False, epsilon=1e-08,\n",
      "       hidden_layer_sizes=[10, 10, 10, 10, 10, 10, 10, 10, 10, 10],\n",
      "       learning_rate='constant', learning_rate_init=0.001, max_iter=200,\n",
      "       momentum=0.9, nesterovs_momentum=True, power_t=0.5, random_state=2,\n",
      "       shuffle=True, solver='adam', tol=0.0001, validation_fraction=0.1,\n",
      "       verbose=False, warm_start=False)\n",
      "\n",
      "\n",
      "*********************************************************************************************\n",
      "accuracy  : 0.112  , Activation Funtion =  logistic\n",
      "*********************************************************************************************\n",
      "Scoring                            =  accuracy\n",
      "Activation Function                =  logistic\n",
      "Hidden Layer units in each layer   =  [100, 100, 100]\n",
      "Classifier Information \n",
      "\n",
      "  MLPClassifier(activation='logistic', alpha=0.0001, batch_size='auto',\n",
      "       beta_1=0.9, beta_2=0.999, early_stopping=False, epsilon=1e-08,\n",
      "       hidden_layer_sizes=[100, 100, 100], learning_rate='constant',\n",
      "       learning_rate_init=0.001, max_iter=200, momentum=0.9,\n",
      "       nesterovs_momentum=True, power_t=0.5, random_state=2, shuffle=True,\n",
      "       solver='adam', tol=0.0001, validation_fraction=0.1, verbose=False,\n",
      "       warm_start=False)\n",
      "\n",
      "\n",
      "*********************************************************************************************\n",
      "accuracy  : 0.937  , Activation Funtion =  logistic\n"
     ]
    }
   ],
   "source": [
    "__hidden_layer = [[100,],[100,100,100,100,100,100,100,100,100,100],[50,50,50,50,50,50,50,50,50,50],[10,10,10,10,10,10,10,10,10,10],[100,100,100]]\n",
    "#__hidden_layer = [[100,],[40,],[50,]]\n",
    "__scoring      = ['accuracy']\n",
    "activation_funtion=['relu','identity','tanh','logistic']\n",
    "# sc=['accuracy','precision','recall','roc_auc']\n",
    "for x in range(4):\n",
    "    for j in range(5):\n",
    "        clf = MLPClassifier(activation=activation_funtion[x],hidden_layer_sizes=(__hidden_layer[j]),random_state=2)  \n",
    "        print(\"*********************************************************************************************\")\n",
    "        print(\"Scoring                            = \",__scoring[0])\n",
    "        print(\"Activation Function                = \",activation_funtion[x])\n",
    "        print(\"Hidden Layer units in each layer   = \",__hidden_layer[j])\n",
    "        print(\"Classifier Information \\n\\n \",clf)\n",
    "        print(\"\\n\\n*********************************************************************************************\")\n",
    "        for i in range(1):\n",
    "            scores = cross_val_score(clf, dataset, target, cv=10, scoring=__scoring[i])\n",
    "            print(__scoring[i],\" : %0.3f\" % np.mean(scores),\" , Activation Funtion = \",activation_funtion[x]) \n"
   ]
  },
  {
   "cell_type": "markdown",
   "metadata": {},
   "source": [
    "### Results "
   ]
  },
  {
   "cell_type": "markdown",
   "metadata": {},
   "source": [
    "<pre>\n",
    "*********************************************************************************************\n",
    "Scoring                            =  accuracy\n",
    "Activation Function                =  relu\n",
    "Hidden Layer units in each layer   =  [100]\n",
    "Classifier Information \n",
    "\n",
    "  MLPClassifier(activation='relu', alpha=0.0001, batch_size='auto', beta_1=0.9,\n",
    "       beta_2=0.999, early_stopping=False, epsilon=1e-08,\n",
    "       hidden_layer_sizes=[100], learning_rate='constant',\n",
    "       learning_rate_init=0.001, max_iter=200, momentum=0.9,\n",
    "       nesterovs_momentum=True, power_t=0.5, random_state=2, shuffle=True,\n",
    "       solver='adam', tol=0.0001, validation_fraction=0.1, verbose=False,\n",
    "       warm_start=False)\n",
    "\n",
    "accuracy  : 0.944  , Activation Funtion =  relu\n",
    "\n",
    "*********************************************************************************************\n",
    "\n",
    "Scoring                            =  accuracy\n",
    "Activation Function                =  relu\n",
    "Hidden Layer units in each layer   =  [100, 100, 100, 100, 100, 100, 100, 100, 100, 100]\n",
    "Classifier Information \n",
    "\n",
    "  MLPClassifier(activation='relu', alpha=0.0001, batch_size='auto', beta_1=0.9,\n",
    "       beta_2=0.999, early_stopping=False, epsilon=1e-08,\n",
    "       hidden_layer_sizes=[100, 100, 100, 100, 100, 100, 100, 100, 100, 100],\n",
    "       learning_rate='constant', learning_rate_init=0.001, max_iter=200,\n",
    "       momentum=0.9, nesterovs_momentum=True, power_t=0.5, random_state=2,\n",
    "       shuffle=True, solver='adam', tol=0.0001, validation_fraction=0.1,\n",
    "       verbose=False, warm_start=False)\n",
    "\n",
    "accuracy  : 0.966  , Activation Funtion =  relu\n",
    "\n",
    "*********************************************************************************************\n",
    "\n",
    "Scoring                            =  accuracy\n",
    "Activation Function                =  relu\n",
    "Hidden Layer units in each layer   =  [50, 50, 50, 50, 50, 50, 50, 50, 50, 50]\n",
    "Classifier Information \n",
    "\n",
    "  MLPClassifier(activation='relu', alpha=0.0001, batch_size='auto', beta_1=0.9,\n",
    "       beta_2=0.999, early_stopping=False, epsilon=1e-08,\n",
    "       hidden_layer_sizes=[50, 50, 50, 50, 50, 50, 50, 50, 50, 50],\n",
    "       learning_rate='constant', learning_rate_init=0.001, max_iter=200,\n",
    "       momentum=0.9, nesterovs_momentum=True, power_t=0.5, random_state=2,\n",
    "       shuffle=True, solver='adam', tol=0.0001, validation_fraction=0.1,\n",
    "       verbose=False, warm_start=False)\n",
    "\n",
    "accuracy  : 0.959  , Activation Funtion =  relu\n",
    "\n",
    "*********************************************************************************************\n",
    "\n",
    "Scoring                            =  accuracy\n",
    "Activation Function                =  relu\n",
    "Hidden Layer units in each layer   =  [10, 10, 10, 10, 10, 10, 10, 10, 10, 10]\n",
    "Classifier Information \n",
    "\n",
    "  MLPClassifier(activation='relu', alpha=0.0001, batch_size='auto', beta_1=0.9,\n",
    "       beta_2=0.999, early_stopping=False, epsilon=1e-08,\n",
    "       hidden_layer_sizes=[10, 10, 10, 10, 10, 10, 10, 10, 10, 10],\n",
    "       learning_rate='constant', learning_rate_init=0.001, max_iter=200,\n",
    "       momentum=0.9, nesterovs_momentum=True, power_t=0.5, random_state=2,\n",
    "       shuffle=True, solver='adam', tol=0.0001, validation_fraction=0.1,\n",
    "       verbose=False, warm_start=False)\n",
    "\n",
    "accuracy  : 0.920  , Activation Funtion =  relu\n",
    "\n",
    "*********************************************************************************************\n",
    "\n",
    "Scoring                            =  accuracy\n",
    "Activation Function                =  relu\n",
    "Hidden Layer units in each layer   =  [100, 100, 100]\n",
    "Classifier Information \n",
    "\n",
    "  MLPClassifier(activation='relu', alpha=0.0001, batch_size='auto', beta_1=0.9,\n",
    "       beta_2=0.999, early_stopping=False, epsilon=1e-08,\n",
    "       hidden_layer_sizes=[100, 100, 100], learning_rate='constant',\n",
    "       learning_rate_init=0.001, max_iter=200, momentum=0.9,\n",
    "       nesterovs_momentum=True, power_t=0.5, random_state=2, shuffle=True,\n",
    "       solver='adam', tol=0.0001, validation_fraction=0.1, verbose=False,\n",
    "       warm_start=False)\n",
    "\n",
    "accuracy  : 0.946  , Activation Funtion =  relu\n",
    "\n",
    "*********************************************************************************************\n",
    "\n",
    "Scoring                            =  accuracy\n",
    "Activation Function                =  identity\n",
    "Hidden Layer units in each layer   =  [100]\n",
    "Classifier Information \n",
    "\n",
    "  MLPClassifier(activation='identity', alpha=0.0001, batch_size='auto',\n",
    "       beta_1=0.9, beta_2=0.999, early_stopping=False, epsilon=1e-08,\n",
    "       hidden_layer_sizes=[100], learning_rate='constant',\n",
    "       learning_rate_init=0.001, max_iter=200, momentum=0.9,\n",
    "       nesterovs_momentum=True, power_t=0.5, random_state=2, shuffle=True,\n",
    "       solver='adam', tol=0.0001, validation_fraction=0.1, verbose=False,\n",
    "       warm_start=False)\n",
    "\n",
    "accuracy  : 0.907  , Activation Funtion =  identity\n",
    "\n",
    "*********************************************************************************************\n",
    "\n",
    "Scoring                            =  accuracy\n",
    "Activation Function                =  identity\n",
    "Hidden Layer units in each layer   =  [100, 100, 100, 100, 100, 100, 100, 100, 100, 100]\n",
    "Classifier Information \n",
    "\n",
    "  MLPClassifier(activation='identity', alpha=0.0001, batch_size='auto',\n",
    "       beta_1=0.9, beta_2=0.999, early_stopping=False, epsilon=1e-08,\n",
    "       hidden_layer_sizes=[100, 100, 100, 100, 100, 100, 100, 100, 100, 100],\n",
    "       learning_rate='constant', learning_rate_init=0.001, max_iter=200,\n",
    "       momentum=0.9, nesterovs_momentum=True, power_t=0.5, random_state=2,\n",
    "       shuffle=True, solver='adam', tol=0.0001, validation_fraction=0.1,\n",
    "       verbose=False, warm_start=False)\n",
    "\n",
    "\n",
    "accuracy  : 0.891  , Activation Funtion =  identity\n",
    "\n",
    "*********************************************************************************************\n",
    "\n",
    "Scoring                            =  accuracy\n",
    "Activation Function                =  identity\n",
    "Hidden Layer units in each layer   =  [50, 50, 50, 50, 50, 50, 50, 50, 50, 50]\n",
    "Classifier Information \n",
    "\n",
    "  MLPClassifier(activation='identity', alpha=0.0001, batch_size='auto',\n",
    "       beta_1=0.9, beta_2=0.999, early_stopping=False, epsilon=1e-08,\n",
    "       hidden_layer_sizes=[50, 50, 50, 50, 50, 50, 50, 50, 50, 50],\n",
    "       learning_rate='constant', learning_rate_init=0.001, max_iter=200,\n",
    "       momentum=0.9, nesterovs_momentum=True, power_t=0.5, random_state=2,\n",
    "       shuffle=True, solver='adam', tol=0.0001, validation_fraction=0.1,\n",
    "       verbose=False, warm_start=False)\n",
    "\n",
    "accuracy  : 0.922  , Activation Funtion =  identity\n",
    "\n",
    "*********************************************************************************************\n",
    "\n",
    "Scoring                            =  accuracy\n",
    "Activation Function                =  identity\n",
    "Hidden Layer units in each layer   =  [10, 10, 10, 10, 10, 10, 10, 10, 10, 10]\n",
    "Classifier Information \n",
    "\n",
    "  MLPClassifier(activation='identity', alpha=0.0001, batch_size='auto',\n",
    "       beta_1=0.9, beta_2=0.999, early_stopping=False, epsilon=1e-08,\n",
    "       hidden_layer_sizes=[10, 10, 10, 10, 10, 10, 10, 10, 10, 10],\n",
    "       learning_rate='constant', learning_rate_init=0.001, max_iter=200,\n",
    "       momentum=0.9, nesterovs_momentum=True, power_t=0.5, random_state=2,\n",
    "       shuffle=True, solver='adam', tol=0.0001, validation_fraction=0.1,\n",
    "       verbose=False, warm_start=False)\n",
    "\n",
    "accuracy  : 0.920  , Activation Funtion =  identity\n",
    "\n",
    "*********************************************************************************************\n",
    "\n",
    "Scoring                            =  accuracy\n",
    "Activation Function                =  identity\n",
    "Hidden Layer units in each layer   =  [100, 100, 100]\n",
    "Classifier Information \n",
    "\n",
    "  MLPClassifier(activation='identity', alpha=0.0001, batch_size='auto',\n",
    "       beta_1=0.9, beta_2=0.999, early_stopping=False, epsilon=1e-08,\n",
    "       hidden_layer_sizes=[100, 100, 100], learning_rate='constant',\n",
    "       learning_rate_init=0.001, max_iter=200, momentum=0.9,\n",
    "       nesterovs_momentum=True, power_t=0.5, random_state=2, shuffle=True,\n",
    "       solver='adam', tol=0.0001, validation_fraction=0.1, verbose=False,\n",
    "       warm_start=False)\n",
    "\n",
    "accuracy  : 0.889  , Activation Funtion =  identity\n",
    "\n",
    "*********************************************************************************************\n",
    "\n",
    "Scoring                            =  accuracy\n",
    "Activation Function                =  tanh\n",
    "Hidden Layer units in each layer   =  [100]\n",
    "Classifier Information \n",
    "\n",
    "  MLPClassifier(activation='tanh', alpha=0.0001, batch_size='auto', beta_1=0.9,\n",
    "       beta_2=0.999, early_stopping=False, epsilon=1e-08,\n",
    "       hidden_layer_sizes=[100], learning_rate='constant',\n",
    "       learning_rate_init=0.001, max_iter=200, momentum=0.9,\n",
    "       nesterovs_momentum=True, power_t=0.5, random_state=2, shuffle=True,\n",
    "       solver='adam', tol=0.0001, validation_fraction=0.1, verbose=False,\n",
    "       warm_start=False)\n",
    "\n",
    "accuracy  : 0.919  , Activation Funtion =  tanh\n",
    "\n",
    "*********************************************************************************************\n",
    "\n",
    "Scoring                            =  accuracy\n",
    "Activation Function                =  tanh\n",
    "Hidden Layer units in each layer   =  [100, 100, 100, 100, 100, 100, 100, 100, 100, 100]\n",
    "Classifier Information \n",
    "\n",
    "  MLPClassifier(activation='tanh', alpha=0.0001, batch_size='auto', beta_1=0.9,\n",
    "       beta_2=0.999, early_stopping=False, epsilon=1e-08,\n",
    "       hidden_layer_sizes=[100, 100, 100, 100, 100, 100, 100, 100, 100, 100],\n",
    "       learning_rate='constant', learning_rate_init=0.001, max_iter=200,\n",
    "       momentum=0.9, nesterovs_momentum=True, power_t=0.5, random_state=2,\n",
    "       shuffle=True, solver='adam', tol=0.0001, validation_fraction=0.1,\n",
    "       verbose=False, warm_start=False)\n",
    "\n",
    "accuracy  : 0.913  , Activation Funtion =  tanh\n",
    "\n",
    "*********************************************************************************************\n",
    "\n",
    "Scoring                            =  accuracy\n",
    "Activation Function                =  tanh\n",
    "Hidden Layer units in each layer   =  [50, 50, 50, 50, 50, 50, 50, 50, 50, 50]\n",
    "Classifier Information \n",
    "\n",
    "  MLPClassifier(activation='tanh', alpha=0.0001, batch_size='auto', beta_1=0.9,\n",
    "       beta_2=0.999, early_stopping=False, epsilon=1e-08,\n",
    "       hidden_layer_sizes=[50, 50, 50, 50, 50, 50, 50, 50, 50, 50],\n",
    "       learning_rate='constant', learning_rate_init=0.001, max_iter=200,\n",
    "       momentum=0.9, nesterovs_momentum=True, power_t=0.5, random_state=2,\n",
    "       shuffle=True, solver='adam', tol=0.0001, validation_fraction=0.1,\n",
    "       verbose=False, warm_start=False)\n",
    "\n",
    "accuracy  : 0.900  , Activation Funtion =  tanh\n",
    "\n",
    "*********************************************************************************************\n",
    "\n",
    "Scoring                            =  accuracy\n",
    "Activation Function                =  tanh\n",
    "Hidden Layer units in each layer   =  [10, 10, 10, 10, 10, 10, 10, 10, 10, 10]\n",
    "Classifier Information \n",
    "\n",
    "  MLPClassifier(activation='tanh', alpha=0.0001, batch_size='auto', beta_1=0.9,\n",
    "       beta_2=0.999, early_stopping=False, epsilon=1e-08,\n",
    "       hidden_layer_sizes=[10, 10, 10, 10, 10, 10, 10, 10, 10, 10],\n",
    "       learning_rate='constant', learning_rate_init=0.001, max_iter=200,\n",
    "       momentum=0.9, nesterovs_momentum=True, power_t=0.5, random_state=2,\n",
    "       shuffle=True, solver='adam', tol=0.0001, validation_fraction=0.1,\n",
    "       verbose=False, warm_start=False)\n",
    "\n",
    "accuracy  : 0.783  , Activation Funtion =  tanh\n",
    "\n",
    "*********************************************************************************************\n",
    "\n",
    "Scoring                            =  accuracy\n",
    "Activation Function                =  tanh\n",
    "Hidden Layer units in each layer   =  [100, 100, 100]\n",
    "Classifier Information \n",
    "\n",
    "  MLPClassifier(activation='tanh', alpha=0.0001, batch_size='auto', beta_1=0.9,\n",
    "       beta_2=0.999, early_stopping=False, epsilon=1e-08,\n",
    "       hidden_layer_sizes=[100, 100, 100], learning_rate='constant',\n",
    "       learning_rate_init=0.001, max_iter=200, momentum=0.9,\n",
    "       nesterovs_momentum=True, power_t=0.5, random_state=2, shuffle=True,\n",
    "       solver='adam', tol=0.0001, validation_fraction=0.1, verbose=False,\n",
    "       warm_start=False)\n",
    "\n",
    "accuracy  : 0.929  , Activation Funtion =  tanh\n",
    "\n",
    "*********************************************************************************************\n",
    "\n",
    "Scoring                            =  accuracy\n",
    "Activation Function                =  logistic\n",
    "Hidden Layer units in each layer   =  [100]\n",
    "Classifier Information \n",
    "\n",
    "  MLPClassifier(activation='logistic', alpha=0.0001, batch_size='auto',\n",
    "       beta_1=0.9, beta_2=0.999, early_stopping=False, epsilon=1e-08,\n",
    "       hidden_layer_sizes=[100], learning_rate='constant',\n",
    "       learning_rate_init=0.001, max_iter=200, momentum=0.9,\n",
    "       nesterovs_momentum=True, power_t=0.5, random_state=2, shuffle=True,\n",
    "       solver='adam', tol=0.0001, validation_fraction=0.1, verbose=False,\n",
    "       warm_start=False)\n",
    "\n",
    "accuracy  : 0.942  , Activation Funtion =  logistic\n",
    "\n",
    "*********************************************************************************************\n",
    "\n",
    "Scoring                            =  accuracy\n",
    "Activation Function                =  logistic\n",
    "Hidden Layer units in each layer   =  [100, 100, 100, 100, 100, 100, 100, 100, 100, 100]\n",
    "Classifier Information \n",
    "\n",
    "  MLPClassifier(activation='logistic', alpha=0.0001, batch_size='auto',\n",
    "       beta_1=0.9, beta_2=0.999, early_stopping=False, epsilon=1e-08,\n",
    "       hidden_layer_sizes=[100, 100, 100, 100, 100, 100, 100, 100, 100, 100],\n",
    "       learning_rate='constant', learning_rate_init=0.001, max_iter=200,\n",
    "       momentum=0.9, nesterovs_momentum=True, power_t=0.5, random_state=2,\n",
    "       shuffle=True, solver='adam', tol=0.0001, validation_fraction=0.1,\n",
    "       verbose=False, warm_start=False)\n",
    "\n",
    "accuracy  : 0.108  , Activation Funtion =  logistic\n",
    "\n",
    "*********************************************************************************************\n",
    "\n",
    "Scoring                            =  accuracy\n",
    "Activation Function                =  logistic\n",
    "Hidden Layer units in each layer   =  [50, 50, 50, 50, 50, 50, 50, 50, 50, 50]\n",
    "Classifier Information \n",
    "\n",
    "  MLPClassifier(activation='logistic', alpha=0.0001, batch_size='auto',\n",
    "       beta_1=0.9, beta_2=0.999, early_stopping=False, epsilon=1e-08,\n",
    "       hidden_layer_sizes=[50, 50, 50, 50, 50, 50, 50, 50, 50, 50],\n",
    "       learning_rate='constant', learning_rate_init=0.001, max_iter=200,\n",
    "       momentum=0.9, nesterovs_momentum=True, power_t=0.5, random_state=2,\n",
    "       shuffle=True, solver='adam', tol=0.0001, validation_fraction=0.1,\n",
    "       verbose=False, warm_start=False)\n",
    "\n",
    "accuracy  : 0.109  , Activation Funtion =  logistic\n",
    "\n",
    "*********************************************************************************************\n",
    "\n",
    "Scoring                            =  accuracy\n",
    "Activation Function                =  logistic\n",
    "Hidden Layer units in each layer   =  [10, 10, 10, 10, 10, 10, 10, 10, 10, 10]\n",
    "Classifier Information \n",
    "\n",
    "  MLPClassifier(activation='logistic', alpha=0.0001, batch_size='auto',\n",
    "       beta_1=0.9, beta_2=0.999, early_stopping=False, epsilon=1e-08,\n",
    "       hidden_layer_sizes=[10, 10, 10, 10, 10, 10, 10, 10, 10, 10],\n",
    "       learning_rate='constant', learning_rate_init=0.001, max_iter=200,\n",
    "       momentum=0.9, nesterovs_momentum=True, power_t=0.5, random_state=2,\n",
    "       shuffle=True, solver='adam', tol=0.0001, validation_fraction=0.1,\n",
    "       verbose=False, warm_start=False)\n",
    "\n",
    "accuracy  : 0.112  , Activation Funtion =  logistic\n",
    "\n",
    "*********************************************************************************************\n",
    "\n",
    "Scoring                            =  accuracy\n",
    "Activation Function                =  logistic\n",
    "Hidden Layer units in each layer   =  [100, 100, 100]\n",
    "Classifier Information \n",
    "\n",
    "  MLPClassifier(activation='logistic', alpha=0.0001, batch_size='auto',\n",
    "       beta_1=0.9, beta_2=0.999, early_stopping=False, epsilon=1e-08,\n",
    "       hidden_layer_sizes=[100, 100, 100], learning_rate='constant',\n",
    "       learning_rate_init=0.001, max_iter=200, momentum=0.9,\n",
    "       nesterovs_momentum=True, power_t=0.5, random_state=2, shuffle=True,\n",
    "       solver='adam', tol=0.0001, validation_fraction=0.1, verbose=False,\n",
    "       warm_start=False)\n",
    "\n",
    "accuracy  : 0.937  , Activation Funtion =  logistic\n",
    "\n",
    "*********************************************************************************************\n",
    "\n",
    "</pre>"
   ]
  },
  {
   "cell_type": "markdown",
   "metadata": {},
   "source": [
    "### Random Forest Classifier"
   ]
  },
  {
   "cell_type": "code",
   "execution_count": 6,
   "metadata": {
    "collapsed": false
   },
   "outputs": [
    {
     "name": "stdout",
     "output_type": "stream",
     "text": [
      "accuracy_score : 0.984\n"
     ]
    }
   ],
   "source": [
    "# create and train the random forest\n",
    "# multi-core CPUs can use: rf = RandomForestClassifier(n_estimators=100, n_jobs=2)\n",
    "rf = RandomForestClassifier(n_estimators=100,n_jobs=2)\n",
    "scores = cross_val_score(rf, dataset, target, cv=10, scoring='accuracy')\n",
    "print(\"accuracy_score : %0.3f\" % np.mean(scores)) \n"
   ]
  },
  {
   "cell_type": "code",
   "execution_count": 7,
   "metadata": {
    "collapsed": false
   },
   "outputs": [
    {
     "data": {
      "text/plain": [
       "RandomForestClassifier(bootstrap=True, class_weight=None, criterion='gini',\n",
       "            max_depth=None, max_features='auto', max_leaf_nodes=None,\n",
       "            min_impurity_split=1e-07, min_samples_leaf=1,\n",
       "            min_samples_split=2, min_weight_fraction_leaf=0.0,\n",
       "            n_estimators=100, n_jobs=2, oob_score=False, random_state=None,\n",
       "            verbose=0, warm_start=False)"
      ]
     },
     "execution_count": 7,
     "metadata": {},
     "output_type": "execute_result"
    }
   ],
   "source": [
    "rf.fit(train,target)"
   ]
  },
  {
   "cell_type": "markdown",
   "metadata": {},
   "source": [
    "### Random prediction results \n"
   ]
  },
  {
   "cell_type": "code",
   "execution_count": 8,
   "metadata": {
    "collapsed": false
   },
   "outputs": [
    {
     "name": "stdout",
     "output_type": "stream",
     "text": [
      "Shape of x (10000, 784) Shape of Y (10000,)\n"
     ]
    }
   ],
   "source": [
    "# mnist_test.csv has been taken from MNIST web portal \n",
    "#(http://pjreddie.com/projects/mnist-in-csv/).\n",
    "#This is used here for getting random prediction statistics.\n",
    "\n",
    "mnist_test = pd.read_csv('data/mnist_test.csv') \n",
    "# x\n",
    "random_test = mnist_test.iloc[:,1:].values\n",
    "# Y\n",
    "random_test_target = mnist_test[[0]].values.ravel()\n",
    "print(\"Shape of x\",random_test.shape,\"Shape of Y\",random_test_target.shape)"
   ]
  },
  {
   "cell_type": "code",
   "execution_count": 9,
   "metadata": {
    "collapsed": false
   },
   "outputs": [],
   "source": [
    "predicted = rf.predict(random_test)\n"
   ]
  },
  {
   "cell_type": "code",
   "execution_count": 10,
   "metadata": {
    "collapsed": false
   },
   "outputs": [],
   "source": [
    "count_TP = {0:0,1:0,2:0,3:0,4:0,5:0,6:0,7:0,8:0,9:0}\n",
    "count_N = {0:0,1:0,2:0,3:0,4:0,5:0,6:0,7:0,8:0,9:0}\n",
    "for i in range(10000):\n",
    "    if predicted[i] == random_test_target[i]:\n",
    "        count_TP[predicted[i]] += 1\n",
    "    else:\n",
    "        count_N[random_test_target[i]] += 1\n",
    "        "
   ]
  },
  {
   "cell_type": "code",
   "execution_count": 11,
   "metadata": {
    "collapsed": false
   },
   "outputs": [],
   "source": [
    "f = {0:0,1:0,2:0,3:0,4:0,5:0,6:0,7:0,8:0,9:0}\n",
    "for i in range(10):\n",
    "    f[i] = count_TP[i]/(count_TP[i]+count_N[i])*100\n"
   ]
  },
  {
   "cell_type": "markdown",
   "metadata": {},
   "source": [
    "### Evaluation of Random Classifier Report"
   ]
  },
  {
   "cell_type": "code",
   "execution_count": 12,
   "metadata": {
    "collapsed": false
   },
   "outputs": [
    {
     "name": "stdout",
     "output_type": "stream",
     "text": [
      "Classification report for classifier \n",
      "\n",
      "RandomForestClassifier(bootstrap=True, class_weight=None, criterion='gini',\n",
      "            max_depth=None, max_features='auto', max_leaf_nodes=None,\n",
      "            min_impurity_split=1e-07, min_samples_leaf=1,\n",
      "            min_samples_split=2, min_weight_fraction_leaf=0.0,\n",
      "            n_estimators=100, n_jobs=2, oob_score=False, random_state=None,\n",
      "            verbose=0, warm_start=False):\n",
      "\n",
      "             precision    recall  f1-score   support\n",
      "\n",
      "          0       0.99      0.99      0.99       980\n",
      "          1       0.99      1.00      1.00      1135\n",
      "          2       0.98      0.99      0.98      1032\n",
      "          3       0.99      0.98      0.99      1010\n",
      "          4       0.99      0.99      0.99       982\n",
      "          5       1.00      0.99      0.99       892\n",
      "          6       0.99      0.99      0.99       958\n",
      "          7       0.98      0.98      0.98      1028\n",
      "          8       0.98      0.99      0.98       974\n",
      "          9       0.99      0.98      0.98      1009\n",
      "\n",
      "avg / total       0.99      0.99      0.99     10000\n",
      "\n",
      "\n",
      "\n",
      "\n",
      "Confusion Matrix :\n",
      "\n",
      "[[ 974    0    1    0    0    1    0    1    3    0]\n",
      " [   0 1132    0    1    1    0    0    0    1    0]\n",
      " [   2    0 1020    1    1    0    1    4    3    0]\n",
      " [   0    0    5  994    0    0    0    7    4    0]\n",
      " [   0    0    0    0  971    0    3    0    2    6]\n",
      " [   1    0    0    4    2  879    3    1    2    0]\n",
      " [   2    3    0    0    0    0  951    0    2    0]\n",
      " [   0    2    9    0    0    0    0 1011    0    6]\n",
      " [   0    0    3    2    2    2    1    1  960    3]\n",
      " [   3    2    2    4    6    1    1    3    1  986]]\n",
      "\n",
      "\n",
      "\n",
      "Accuracy Score :\n",
      "\n",
      "0.988\n",
      "\n"
     ]
    }
   ],
   "source": [
    "print(\"Classification report for classifier \\n\\n%s:\\n\\n%s\\n\"\n",
    "     % (rf, metrics.classification_report(random_test_target, predicted)))\n",
    "\n",
    "con_mat = metrics.confusion_matrix(random_test_target, predicted)\n",
    "\n",
    "size = len(con_mat[0])\n",
    "sum_diagonal = sum(con_mat[i][i] for i in range(size))\n",
    "sum_all = con_mat.sum()\n",
    "\n",
    "print(\"\\n\\nConfusion Matrix :\\n\\n%s\\n\"\n",
    "     % (metrics.confusion_matrix(random_test_target, predicted)))\n",
    "\n",
    "print(\"\\n\\nAccuracy Score :\\n\\n%0.3f\\n\"\n",
    "     % (sum_diagonal/sum_all))"
   ]
  },
  {
   "cell_type": "markdown",
   "metadata": {},
   "source": [
    "### Random Prediction Statistics for each class using Random Forest Classifier"
   ]
  },
  {
   "cell_type": "code",
   "execution_count": 16,
   "metadata": {
    "collapsed": false
   },
   "outputs": [
    {
     "data": {
      "image/png": "[encoded data removed]",
      "text/plain": [
       "<matplotlib.figure.Figure at 0x7fd37aa03240>"
      ]
     },
     "metadata": {},
     "output_type": "display_data"
    },
    {
     "name": "stdout",
     "output_type": "stream",
     "text": [
      "RandomForest Classifer - \n",
      "Predicted 99.592 %  for the category  0 (=Digit)\n",
      "Predicted 99.912 %  for the category  1 (=Digit)\n",
      "Predicted 98.837 %  for the category  2 (=Digit)\n",
      "Predicted 98.416 %  for the category  3 (=Digit)\n",
      "Predicted 98.880 %  for the category  4 (=Digit)\n",
      "Predicted 97.870 %  for the category  5 (=Digit)\n",
      "Predicted 99.478 %  for the category  6 (=Digit)\n",
      "Predicted 98.444 %  for the category  7 (=Digit)\n",
      "Predicted 98.460 %  for the category  8 (=Digit)\n",
      "Predicted 98.117 %  for the category  9 (=Digit)\n"
     ]
    }
   ],
   "source": [
    "x_axis = []\n",
    "y_axis = []\n",
    "for category,prediction in f.items():\n",
    "        x_axis.append(category)\n",
    "        y_axis.append(prediction)\n",
    "\n",
    "\n",
    "fig, ax = plt.subplots()\n",
    "rects1 = ax.bar(x_axis, y_axis, width=0.5, color='g')\n",
    "plt.title('Prediction in terms of %')\n",
    "plt.xlabel('Classes - 0 to 9 digits')\n",
    "plt.ylabel('Fequency in 10000 test set')\n",
    "plt.show()\n",
    "print(\"RandomForest Classifer - \")\n",
    "for category,prediction in f.items():\n",
    "        print(\"Predicted %0.3f\"% prediction,\"%  for the category \",category,\"(=Digit)\")"
   ]
  },
  {
   "cell_type": "markdown",
   "metadata": {},
   "source": [
    "Above statistics shows the predicted major class is \"1\""
   ]
  },
  {
   "cell_type": "markdown",
   "metadata": {},
   "source": [
    "### Overall Performance of Random forest"
   ]
  },
  {
   "cell_type": "code",
   "execution_count": 17,
   "metadata": {
    "collapsed": false
   },
   "outputs": [
    {
     "name": "stdout",
     "output_type": "stream",
     "text": [
      "Prediction  98.82 %\n"
     ]
    }
   ],
   "source": [
    "TP=0\n",
    "for i in range(10):\n",
    "    TP = TP + count_TP[i]\n",
    "print(\"Prediction \",TP/100,\"%\")"
   ]
  },
  {
   "cell_type": "markdown",
   "metadata": {},
   "source": [
    "#### Printing some random images for cross checking test data taken from MNIST portal"
   ]
  },
  {
   "cell_type": "code",
   "execution_count": 19,
   "metadata": {
    "collapsed": false
   },
   "outputs": [
    {
     "data": {
      "image/png": "[encoded data removed]",
      "text/plain": [
       "<matplotlib.figure.Figure at 0x7fd379746390>"
      ]
     },
     "metadata": {},
     "output_type": "display_data"
    },
    {
     "data": {
      "image/png": "[encoded data removed]",
      "text/plain": [
       "<matplotlib.figure.Figure at 0x7fd379699ac8>"
      ]
     },
     "metadata": {},
     "output_type": "display_data"
    },
    {
     "data": {
      "image/png": "[encoded data removed]",
      "text/plain": [
       "<matplotlib.figure.Figure at 0x7fd3796719b0>"
      ]
     },
     "metadata": {},
     "output_type": "display_data"
    },
    {
     "data": {
      "image/png": "[encoded data removed]",
      "text/plain": [
       "<matplotlib.figure.Figure at 0x7fd37abafef0>"
      ]
     },
     "metadata": {},
     "output_type": "display_data"
    },
    {
     "data": {
      "image/png": "[encoded data removed]",
      "text/plain": [
       "<matplotlib.figure.Figure at 0x7fd3792ddfd0>"
      ]
     },
     "metadata": {},
     "output_type": "display_data"
    }
   ],
   "source": [
    "# Conversiont to 2-D array of 28x28 size\n",
    "test_images = np.array(random_test).reshape((-1, 1, 28, 28)).astype(np.uint8)\n",
    "\n",
    "for i in range(5):\n",
    "    plt.figure(num=None, figsize=(3, 3), dpi=80, facecolor='w', edgecolor=None)\n",
    "    plt.imshow(test_images[i][0], cmap=cm.binary)"
   ]
  },
  {
   "cell_type": "markdown",
   "metadata": {
    "collapsed": false
   },
   "source": [
    "### Random Prediction using MLP Classifier \n"
   ]
  },
  {
   "cell_type": "code",
   "execution_count": 13,
   "metadata": {
    "collapsed": false
   },
   "outputs": [
    {
     "data": {
      "text/plain": [
       "MLPClassifier(activation='relu', alpha=0.0001, batch_size='auto', beta_1=0.9,\n",
       "       beta_2=0.999, early_stopping=False, epsilon=1e-08,\n",
       "       hidden_layer_sizes=(50, 50, 50, 50, 50, 50, 50, 50, 50, 50),\n",
       "       learning_rate='constant', learning_rate_init=0.001, max_iter=200,\n",
       "       momentum=0.9, nesterovs_momentum=True, power_t=0.5, random_state=2,\n",
       "       shuffle=True, solver='adam', tol=0.0001, validation_fraction=0.1,\n",
       "       verbose=False, warm_start=False)"
      ]
     },
     "execution_count": 13,
     "metadata": {},
     "output_type": "execute_result"
    }
   ],
   "source": [
    "clf = MLPClassifier(hidden_layer_sizes=(50,50,50,50,50,50,50,50,50,50),random_state=2)  \n",
    "clf.fit(train,target)"
   ]
  },
  {
   "cell_type": "code",
   "execution_count": 14,
   "metadata": {
    "collapsed": true
   },
   "outputs": [],
   "source": [
    "predicted = clf.predict(random_test)"
   ]
  },
  {
   "cell_type": "code",
   "execution_count": 15,
   "metadata": {
    "collapsed": true
   },
   "outputs": [],
   "source": [
    "count_TP = {0:0,1:0,2:0,3:0,4:0,5:0,6:0,7:0,8:0,9:0}\n",
    "count_N = {0:0,1:0,2:0,3:0,4:0,5:0,6:0,7:0,8:0,9:0}\n",
    "for i in range(10000):\n",
    "    if predicted[i] == random_test_target[i]:\n",
    "        count_TP[predicted[i]] += 1\n",
    "    else:\n",
    "        count_N[random_test_target[i]] += 1"
   ]
  },
  {
   "cell_type": "code",
   "execution_count": 16,
   "metadata": {
    "collapsed": false
   },
   "outputs": [],
   "source": [
    "f = {0:0,1:0,2:0,3:0,4:0,5:0,6:0,7:0,8:0,9:0}\n",
    "for i in range(10):\n",
    "    f[i] = count_TP[i]/(count_TP[i]+count_N[i])*100"
   ]
  },
  {
   "cell_type": "markdown",
   "metadata": {},
   "source": [
    "### Evaluation of MLP Classifier Report"
   ]
  },
  {
   "cell_type": "code",
   "execution_count": 18,
   "metadata": {
    "collapsed": false
   },
   "outputs": [
    {
     "name": "stdout",
     "output_type": "stream",
     "text": [
      "Classification report for MLP classifier \n",
      "\n",
      "MLPClassifier(activation='relu', alpha=0.0001, batch_size='auto', beta_1=0.9,\n",
      "       beta_2=0.999, early_stopping=False, epsilon=1e-08,\n",
      "       hidden_layer_sizes=(50, 50, 50, 50, 50, 50, 50, 50, 50, 50),\n",
      "       learning_rate='constant', learning_rate_init=0.001, max_iter=200,\n",
      "       momentum=0.9, nesterovs_momentum=True, power_t=0.5, random_state=2,\n",
      "       shuffle=True, solver='adam', tol=0.0001, validation_fraction=0.1,\n",
      "       verbose=False, warm_start=False):\n",
      "\n",
      "             precision    recall  f1-score   support\n",
      "\n",
      "          0       1.00      0.99      0.99       980\n",
      "          1       0.99      1.00      0.99      1135\n",
      "          2       0.99      0.96      0.98      1032\n",
      "          3       0.94      0.99      0.96      1010\n",
      "          4       0.99      0.97      0.98       982\n",
      "          5       0.98      0.99      0.98       892\n",
      "          6       0.99      0.99      0.99       958\n",
      "          7       0.99      0.96      0.97      1028\n",
      "          8       0.98      0.95      0.97       974\n",
      "          9       0.94      0.98      0.96      1009\n",
      "\n",
      "avg / total       0.98      0.98      0.98     10000\n",
      "\n",
      "\n",
      "\n",
      "\n",
      "Confusion Matrix :\n",
      "\n",
      "[[ 970    0    1    0    1    2    1    0    3    2]\n",
      " [   0 1132    1    2    0    0    0    0    0    0]\n",
      " [   1    4  995   17    1    2    1    6    4    1]\n",
      " [   0    0    1  996    0    6    0    6    0    1]\n",
      " [   0    2    1    0  956    0    2    0    1   20]\n",
      " [   0    0    0    7    2  879    1    0    0    3]\n",
      " [   1    2    0    0    2    4  945    0    4    0]\n",
      " [   0    1    4    2    1    0    0  986    1   33]\n",
      " [   1    1    2   29    1    4    0    3  928    5]\n",
      " [   1    1    0    9    1    1    1    0    2  993]]\n",
      "\n",
      "\n",
      "\n",
      "Accuracy Score :\n",
      "\n",
      "0.978\n",
      "\n"
     ]
    }
   ],
   "source": [
    "print(\"Classification report for MLP classifier \\n\\n%s:\\n\\n%s\\n\"\n",
    "     % (clf, metrics.classification_report(random_test_target, predicted)))\n",
    "\n",
    "con_mat = metrics.confusion_matrix(random_test_target, predicted)\n",
    "\n",
    "size = len(con_mat[0])\n",
    "sum_diagonal = sum(con_mat[i][i] for i in range(size))\n",
    "sum_all = con_mat.sum()\n",
    "\n",
    "print(\"\\n\\nConfusion Matrix :\\n\\n%s\\n\"\n",
    "     % (metrics.confusion_matrix(random_test_target, predicted)))\n",
    "\n",
    "print(\"\\n\\nAccuracy Score :\\n\\n%0.3f\\n\"\n",
    "     % (sum_diagonal/sum_all))"
   ]
  },
  {
   "cell_type": "code",
   "execution_count": 28,
   "metadata": {
    "collapsed": false
   },
   "outputs": [
    {
     "data": {
      "image/png": "[encoded data removed]",
      "text/plain": [
       "<matplotlib.figure.Figure at 0x7fd3795550b8>"
      ]
     },
     "metadata": {},
     "output_type": "display_data"
    },
    {
     "name": "stdout",
     "output_type": "stream",
     "text": [
      "MLP Classifier Classifer - \n",
      "Predicted 98.980 %  for the category  0 (=Digit)\n",
      "Predicted 99.736 %  for the category  1 (=Digit)\n",
      "Predicted 96.415 %  for the category  2 (=Digit)\n",
      "Predicted 98.614 %  for the category  3 (=Digit)\n",
      "Predicted 97.352 %  for the category  4 (=Digit)\n",
      "Predicted 98.543 %  for the category  5 (=Digit)\n",
      "Predicted 98.643 %  for the category  6 (=Digit)\n",
      "Predicted 95.914 %  for the category  7 (=Digit)\n",
      "Predicted 95.277 %  for the category  8 (=Digit)\n",
      "Predicted 98.414 %  for the category  9 (=Digit)\n"
     ]
    }
   ],
   "source": [
    "x_axis = []\n",
    "y_axis = []\n",
    "for category,prediction in f.items():\n",
    "        x_axis.append(category)\n",
    "        y_axis.append(prediction)\n",
    "\n",
    "\n",
    "fig, ax = plt.subplots()\n",
    "rects1 = ax.bar(x_axis, y_axis, width=0.5, color='g')\n",
    "plt.title('Prediction in terms of %')\n",
    "plt.xlabel('Classes - 0 to 9 digits')\n",
    "plt.ylabel('Fequency in 10000 test set')\n",
    "plt.show()\n",
    "print(\"MLP Classifier Classifer - \")\n",
    "for category,prediction in f.items():\n",
    "        print(\"Predicted %0.3f\"% prediction,\"%  for the category \",category,\"(=Digit)\")"
   ]
  },
  {
   "cell_type": "markdown",
   "metadata": {},
   "source": [
    "Above statistics shows the predicted major class is \"1\""
   ]
  },
  {
   "cell_type": "markdown",
   "metadata": {},
   "source": [
    "### Overall Performance of MLP Classifier"
   ]
  },
  {
   "cell_type": "code",
   "execution_count": 19,
   "metadata": {
    "collapsed": false
   },
   "outputs": [
    {
     "name": "stdout",
     "output_type": "stream",
     "text": [
      "Prediction  97.8 %\n"
     ]
    }
   ],
   "source": [
    "TP=0\n",
    "for i in range(10):\n",
    "    TP = TP + count_TP[i]\n",
    "print(\"Prediction \",TP/100,\"%\")"
   ]
  },
  {
   "cell_type": "markdown",
   "metadata": {},
   "source": [
    "### Observations & Results"
   ]
  },
  {
   "cell_type": "markdown",
   "metadata": {},
   "source": [
    "<pre> \n",
    "It’s difficult to find important features for the given input vector of pixel values of the digit images.\n",
    "\n",
    "We have tried with third model ‘Support Vector Machine’ , but it ran endlessly for the given input size, so we discarded this model.\n",
    "\n",
    "\n",
    "\n",
    "For all artificial neural network classification models , we used default number of iteration ‘200’ already initialized in MLPClassifier.\n",
    "\n",
    "We have experimented with various number of hidden layers with various number of units in each of them.We have also experimented with different activation functions.The reason to experiment on these various options is to narrow down the best selected parameter values for getting highest accuracy ratio.\n",
    "\n",
    "Decision to choose the best model depends on the following performance measures during the experiment on 42K data as training and tested upon 10K data :\n",
    "\n",
    "                    MLP Classifier   |   Random Forest Classifier\n",
    "\n",
    "Average Precision :    0.99\t         |    0.98\n",
    "\n",
    "Average Recall :       0.99\t         |    0.98\n",
    "\n",
    "Average F1-Score :     0.99\t         |    0.98\n",
    "\n",
    "Accuracy Score :       0.98          |    0.97\n",
    "\n",
    "\n",
    "\n",
    "We have also tested the performance on the test dataset of 28K rows.Following are performance of it.\n",
    "\n",
    "We have got  accuracy results by calling cross validation score function as well for MLPClassifier on various inputs of the parameters (# of hidden layers , # of units in each of them, Activation Functions) .These are listed below for various inputs :\n",
    "\n",
    "0.944 , 0.966, 0.959, 0.920, 0.946, 0.907, 0.891, 0.920, 0.889, 0.919, 0.913, 0.900, 0.783, 0.929, 0.942, 0.108, 0.109, 0.112, 0.937\n",
    "\n",
    "We have got  accuracy result by calling cross validation score function as well for RandomForestClassifier as ‘0.984’ .\n",
    "\n",
    "\n",
    "\n",
    "Hence , Random Forest Classifier is best suited model among the experimented models to classify handwritten images of the 10 digits.\n",
    "<pre>"
   ]
  }
 ],
 "metadata": {
  "anaconda-cloud": {},
  "kernelspec": {
   "display_name": "Python [Root]",
   "language": "python",
   "name": "Python [Root]"
  },
  "language_info": {
   "codemirror_mode": {
    "name": "ipython",
    "version": 2
   },
   "file_extension": ".py",
   "mimetype": "text/x-python",
   "name": "python",
   "nbconvert_exporter": "python",
   "pygments_lexer": "ipython2",
   "version": "2.7.12"
  }
 },
 "nbformat": 4,
 "nbformat_minor": 0
}
